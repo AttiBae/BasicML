{
  "nbformat": 4,
  "nbformat_minor": 0,
  "metadata": {
    "colab": {
      "name": "Chapter4_MNIST_Classificationipynb",
      "provenance": [],
      "collapsed_sections": [],
      "mount_file_id": "1paqGfX7PS7Kwj3wkGFH1nYmaIFAW0wLH",
      "authorship_tag": "ABX9TyP3pLrChKZt83TWGDe9EuF/",
      "include_colab_link": true
    },
    "kernelspec": {
      "name": "python3",
      "display_name": "Python 3"
    },
    "language_info": {
      "name": "python"
    },
    "accelerator": "GPU"
  },
  "cells": [
    {
      "cell_type": "markdown",
      "metadata": {
        "id": "view-in-github",
        "colab_type": "text"
      },
      "source": [
        "<a href=\"https://colab.research.google.com/github/AttiBae/BasicML/blob/main/Chapter4_MNIST_Classificationipynb.ipynb\" target=\"_parent\"><img src=\"https://colab.research.google.com/assets/colab-badge.svg\" alt=\"Open In Colab\"/></a>"
      ]
    },
    {
      "cell_type": "code",
      "metadata": {
        "id": "sCKqcgstK1wa"
      },
      "source": [
        "import torch\n",
        "import torch.nn as nn\n",
        "import torch.nn.functional as F\n",
        "import torch.optim as optim\n",
        "import torchvision\n",
        "from torch.autograd import Variable as Variable\n",
        "from torch.utils.data import DataLoader, Dataset, Subset\n",
        "from torchvision import datasets, models, transforms\n",
        "import matplotlib.pyplot as plt\n",
        "import numpy as np\n",
        "import time\n",
        "import random"
      ],
      "execution_count": null,
      "outputs": []
    },
    {
      "cell_type": "code",
      "metadata": {
        "id": "9x3vl-hfLCWT"
      },
      "source": [
        "MNIST_transform = transforms.Compose([transforms.Resize((28,28)),\n",
        "                                   transforms.ToTensor()])\n",
        "\n",
        "trainset = datasets.MNIST(root='./data/MNIST/', \n",
        "                           train=True,\n",
        "                           download = True, \n",
        "                           transform=MNIST_transform)\n",
        "\n",
        "testset = datasets.MNIST(root='./data/MNIST/', \n",
        "                           train=False, \n",
        "                           download = True, \n",
        "                           transform=MNIST_transform)"
      ],
      "execution_count": null,
      "outputs": []
    },
    {
      "cell_type": "code",
      "metadata": {
        "id": "ickmmIukrkP3"
      },
      "source": [
        "train_loader = DataLoader(trainset, batch_size = 32, shuffle = True)\n",
        "test_loader = DataLoader(testset, batch_size = 32, shuffle = True)\n",
        "\n",
        "dataloaders = [train_loader, test_loader]"
      ],
      "execution_count": null,
      "outputs": []
    },
    {
      "cell_type": "code",
      "metadata": {
        "colab": {
          "base_uri": "https://localhost:8080/",
          "height": 489
        },
        "id": "UZp4U7ZdsC6O",
        "outputId": "a98395c8-223b-4b16-db2b-ea8361dab423"
      },
      "source": [
        "image, label = next(iter(train_loader))\n",
        "\n",
        "plt.figure(figsize=(16, 16))\n",
        "for i in range(4):\n",
        "    plt.subplot(4, 4, i+1)\n",
        "    plt.imshow(image[i].squeeze(0), cmap='gray')\n",
        "    plt.title(label[i].numpy())\n",
        "\n",
        "image, label = next(iter(test_loader))\n",
        "\n",
        "plt.figure(figsize=(16, 16))\n",
        "for i in range(4):\n",
        "    plt.subplot(4, 4, i+1)\n",
        "    plt.imshow(image[i].squeeze(0), cmap='gray')\n",
        "    plt.title(label[i].numpy())    "
      ],
      "execution_count": null,
      "outputs": [
        {
          "output_type": "display_data",
          "data": {
            "image/png": "[encoded data removed]",
            "text/plain": [
              "<Figure size 1152x1152 with 4 Axes>"
            ]
          },
          "metadata": {
            "tags": [],
            "needs_background": "light"
          }
        },
        {
          "output_type": "display_data",
          "data": {
            "image/png": "[encoded data removed]",
            "text/plain": [
              "<Figure size 1152x1152 with 4 Axes>"
            ]
          },
          "metadata": {
            "tags": [],
            "needs_background": "light"
          }
        }
      ]
    },
    {
      "cell_type": "code",
      "metadata": {
        "id": "2F3ryeT8svhu"
      },
      "source": [
        "class SimpleLayer(nn.Module):\n",
        "    def __init__(self):\n",
        "        super(SimpleLayer,self).__init__()\n",
        "        self.fc1 = nn.Linear(28 * 28, 32)\n",
        "\n",
        "    def forward(self, x):\n",
        "        x = x.view(-1, 28 * 28)\n",
        "        print(x.shape)\n",
        "        x = self.fc1(x)\n",
        "        return F.log_softmax(x, dim=1)\n",
        "\n",
        "\n",
        "class LinearNet(nn.Module):\n",
        "    def __init__(self):\n",
        "        super(LinearNet,self).__init__()\n",
        "        self.fc1 = nn.Linear(28 * 28, 100)\n",
        "        self.fc2 = nn.Linear(100, 32)\n",
        "\n",
        "    def forward(self, x):\n",
        "        x = x.view(-1, 28 * 28)\n",
        "        x = F.relu(self.fc1(x))\n",
        "        x = self.fc2(x)\n",
        "        return F.log_softmax(x, dim=1)\n",
        "\n",
        "\n",
        "class ConvNet(nn.Module):\n",
        "    def __init__(self):\n",
        "        super(ConvNet,self).__init__()\n",
        "        self.conv1 = nn.Conv2d(1,16, kernel_size = 5)\n",
        "        self.conv2 = nn.Conv2d(16, 32, kernel_size = 5)\n",
        "        self.fc1 = nn.Linear(32 * 4 * 4, 100)\n",
        "        self.fc2 = nn.Linear(100, 32)\n",
        "\n",
        "    def forward(self, x):\n",
        "        x = F.relu(F.max_pool2d(self.conv1(x), 2))\n",
        "        x = F.relu(F.max_pool2d(self.conv2(x), 2))\n",
        "        x = x.view(-1, 32 * 4 * 4)\n",
        "        x = F.relu(self.fc1(x))\n",
        "        x = self.fc2(x)\n",
        "        return F.log_softmax(x, dim=1)\n",
        "\n",
        "\n",
        "#model = SimpleLayer()\n",
        "#model = LinearNet()\n",
        "model = ConvNet()\n",
        "\n",
        "if torch.cuda.is_available():\n",
        "  device = torch.device('cuda')\n",
        "  model = model.to(device)\n",
        "  is_cuda = 1\n",
        "else: is_cuda = 0"
      ],
      "execution_count": null,
      "outputs": []
    },
    {
      "cell_type": "code",
      "metadata": {
        "id": "17jwqXN1s6Pk"
      },
      "source": [
        "learning_rate = 0.001\n",
        "criterion = nn.NLLLoss()\n",
        "optimizer = optim.Adam(model.parameters(), lr = learning_rate)\n",
        "\n",
        "num_epochs = 10\n",
        "\n",
        "data_num = [len(trainset),len(testset)]"
      ],
      "execution_count": null,
      "outputs": []
    },
    {
      "cell_type": "code",
      "metadata": {
        "id": "DpAAFQcHs9r7",
        "colab": {
          "base_uri": "https://localhost:8080/",
          "height": 998
        },
        "outputId": "61662887-865b-4ae5-d952-6c8c03edc587"
      },
      "source": [
        "start = time.time()\n",
        "best_model = model.state_dict()\n",
        "best_acc = 0.0\n",
        "\n",
        "for epoch in range(num_epochs):\n",
        "  print('-----------------------------------')\n",
        "  print('{} Epoch'.format(epoch+1))\n",
        "\n",
        "  for mode in ['train', 'test']:\n",
        "    if mode == 'train':\n",
        "      model.train(True)\n",
        "      flag = 0\n",
        "    else:\n",
        "      model.train(False)\n",
        "      flag = 1\n",
        "\n",
        "    running_loss = 0.0  ## Loss & Acc Initialize\n",
        "    running_corrects = 0\n",
        "\n",
        "    for (data, target) in dataloaders[flag]:  ## Read Data from dataloaders\n",
        "      if is_cuda:\n",
        "        data, target = data.cuda(), target.cuda()\n",
        "      data. target = Variable(data).to(device), Variable(target).to(device)  ## CUDA Setting\n",
        "\n",
        "      optimizer.zero_grad()  ## Optimizer initialize every batch\n",
        "      outputs = model(data)  ## Put images to network\n",
        "      pred = outputs.data.max(dim=1, keepdim=True)[1]  ## prediction - MNIST data represented each 0 ~ 9\n",
        "      loss = criterion(outputs, target)\n",
        "\n",
        "      if mode == 'train':\n",
        "        loss.backward()  ## get gradient\n",
        "        optimizer.step()  ## optimizer task for network's train\n",
        "\n",
        "      running_loss += loss.item()\n",
        "      running_corrects += pred.eq(target.data.view_as(pred)).cpu().sum()\n",
        "\n",
        "    epoch_loss = running_loss / data_num[flag]\n",
        "    epoch_acc = running_corrects / data_num[flag] * 100  ## Accuracy (0~100%)\n",
        "    print('{}\\tLoss : {:.5} Acc : {:.5}'.format(mode, epoch_loss, epoch_acc))\n",
        "    \n",
        "    if mode == 'test' and epoch_acc > best_acc:  ## Store best-performed model data\n",
        "      best_acc = epoch_acc\n",
        "      best_model = model.state_dict()\n",
        "\n",
        " \n",
        "\n",
        "elapsed_time = time.time() - start\n",
        "print('Elapsed time : {}s'.format(elapsed_time))\n",
        "plt.figure(figsize=(16, 16)) \n",
        "for i in range(4):\n",
        "  plt.subplot(4, 4, i+1)\n",
        "  plt.imshow(data[i].cpu().squeeze(0).numpy(), cmap='gray')\n",
        "  plt.title('Prediction in Test : {}'.format(pred[i].cpu().numpy()))\n",
        "plt.show()"
      ],
      "execution_count": null,
      "outputs": [
        {
          "output_type": "stream",
          "text": [
            "-----------------------------------\n",
            "1 Epoch\n",
            "train\tLoss : 0.0066452 Acc : 93.367\n",
            "test\tLoss : 0.0019255 Acc : 97.96\n",
            "-----------------------------------\n",
            "2 Epoch\n",
            "train\tLoss : 0.0018755 Acc : 98.168\n",
            "test\tLoss : 0.0012624 Acc : 98.67\n",
            "-----------------------------------\n",
            "3 Epoch\n",
            "train\tLoss : 0.0012731 Acc : 98.703\n",
            "test\tLoss : 0.0011019 Acc : 98.93\n",
            "-----------------------------------\n",
            "4 Epoch\n",
            "train\tLoss : 0.00097211 Acc : 99.013\n",
            "test\tLoss : 0.00096862 Acc : 98.97\n",
            "-----------------------------------\n",
            "5 Epoch\n",
            "train\tLoss : 0.00075988 Acc : 99.273\n",
            "test\tLoss : 0.00104 Acc : 98.97\n",
            "-----------------------------------\n",
            "6 Epoch\n",
            "train\tLoss : 0.00061265 Acc : 99.37\n",
            "test\tLoss : 0.0010388 Acc : 98.97\n",
            "-----------------------------------\n",
            "7 Epoch\n",
            "train\tLoss : 0.00052168 Acc : 99.467\n",
            "test\tLoss : 0.00091171 Acc : 99.08\n",
            "-----------------------------------\n",
            "8 Epoch\n",
            "train\tLoss : 0.00040434 Acc : 99.582\n",
            "test\tLoss : 0.001164 Acc : 99.0\n",
            "-----------------------------------\n",
            "9 Epoch\n",
            "train\tLoss : 0.00037577 Acc : 99.575\n",
            "test\tLoss : 0.00097488 Acc : 99.13\n",
            "-----------------------------------\n",
            "10 Epoch\n",
            "train\tLoss : 0.00032462 Acc : 99.642\n",
            "test\tLoss : 0.0012795 Acc : 98.93\n",
            "Elapsed time : 170.32423067092896s\n"
          ],
          "name": "stdout"
        },
        {
          "output_type": "display_data",
          "data": {
            "image/png": "[encoded data removed]",
            "text/plain": [
              "<Figure size 1152x1152 with 4 Axes>"
            ]
          },
          "metadata": {
            "tags": [],
            "needs_background": "light"
          }
        }
      ]
    },
    {
      "cell_type": "code",
      "metadata": {
        "id": "KcrwcTTglvo_",
        "colab": {
          "base_uri": "https://localhost:8080/"
        },
        "outputId": "d91a1e90-6bd5-4ae8-f2c3-a19f95fb1ba6"
      },
      "source": [
        "from google.colab import drive\n",
        "drive.mount('/content/drive')"
      ],
      "execution_count": null,
      "outputs": [
        {
          "output_type": "stream",
          "text": [
            "Drive already mounted at /content/drive; to attempt to forcibly remount, call drive.mount(\"/content/drive\", force_remount=True).\n"
          ],
          "name": "stdout"
        }
      ]
    },
    {
      "cell_type": "code",
      "metadata": {
        "colab": {
          "base_uri": "https://localhost:8080/"
        },
        "id": "7AgoLmARY90v",
        "outputId": "14f0cc76-aa50-40ab-a513-cd116f26630e"
      },
      "source": [
        "from glob import glob\n",
        "import os\n",
        "\n",
        "path = '/content/drive/MyDrive/BasicML/Chapter4/My_MNIST/'\n",
        "files = glob(os.path.join(path, '*/*.jpg'))\n",
        "\n",
        "print(f'Total # of images {len(files)}')"
      ],
      "execution_count": null,
      "outputs": [
        {
          "output_type": "stream",
          "text": [
            "Total # of images 64\n"
          ],
          "name": "stdout"
        }
      ]
    },
    {
      "cell_type": "code",
      "metadata": {
        "id": "gydRLTJZZKba"
      },
      "source": [
        "MNIST_transform = transforms.Compose([transforms.Resize((28,28)),\n",
        "                                   transforms.Grayscale(1),\n",
        "                                   transforms.ToTensor()])\n",
        "\n",
        "validset = datasets.ImageFolder(path, MNIST_transform)\n",
        "valid_loader = DataLoader(validset, batch_size = 32, shuffle = True)"
      ],
      "execution_count": null,
      "outputs": []
    },
    {
      "cell_type": "code",
      "metadata": {
        "colab": {
          "base_uri": "https://localhost:8080/",
          "height": 238
        },
        "id": "adAR6qGyZVsH",
        "outputId": "a25c96a7-0a47-41ef-90ad-1d6b17450b48"
      },
      "source": [
        "image, label = next(iter(valid_loader))\n",
        "plt.figure(figsize=(16, 16))\n",
        "for i in range(4):\n",
        "    plt.subplot(4, 4, i+1)\n",
        "    plt.imshow(image[i,0,:,:], cmap='gray')"
      ],
      "execution_count": null,
      "outputs": [
        {
          "output_type": "display_data",
          "data": {
            "image/png": "[encoded data removed]",
            "text/plain": [
              "<Figure size 1152x1152 with 4 Axes>"
            ]
          },
          "metadata": {
            "tags": [],
            "needs_background": "light"
          }
        }
      ]
    },
    {
      "cell_type": "code",
      "metadata": {
        "colab": {
          "base_uri": "https://localhost:8080/"
        },
        "id": "8G08PB8JsrT6",
        "outputId": "ceda1dd8-4810-4c12-a46b-2d82c6dc42c1"
      },
      "source": [
        "model.load_state_dict(best_model)\n",
        "model.eval()"
      ],
      "execution_count": null,
      "outputs": [
        {
          "output_type": "execute_result",
          "data": {
            "text/plain": [
              "ConvNet(\n",
              "  (conv1): Conv2d(1, 16, kernel_size=(5, 5), stride=(1, 1))\n",
              "  (conv2): Conv2d(16, 32, kernel_size=(5, 5), stride=(1, 1))\n",
              "  (fc1): Linear(in_features=512, out_features=100, bias=True)\n",
              "  (fc2): Linear(in_features=100, out_features=32, bias=True)\n",
              ")"
            ]
          },
          "metadata": {
            "tags": []
          },
          "execution_count": 14
        }
      ]
    },
    {
      "cell_type": "code",
      "metadata": {
        "id": "LXKCTQ_DZ47j"
      },
      "source": [
        "for (data, _) in valid_loader:  ## Read Data\n",
        "      if is_cuda:\n",
        "        data = data.cuda()\n",
        "      data = Variable(data).to(device) ## CUDA Setting\n",
        "\n",
        "      outputs = model(data)  ## Put images to network\n",
        "      pred = outputs.data.max(dim=1, keepdim=True)[1]  ## prediction"
      ],
      "execution_count": null,
      "outputs": []
    },
    {
      "cell_type": "code",
      "metadata": {
        "colab": {
          "base_uri": "https://localhost:8080/",
          "height": 191
        },
        "id": "cM3woPRCbkgS",
        "outputId": "e7242276-7fbd-4176-bfe9-6426635eccea"
      },
      "source": [
        "plt.figure(figsize=(32, 32))  \n",
        "for i in range(10):\n",
        "  plt.subplot(10, 10, i+1)\n",
        "  plt.imshow(data[i].cpu().numpy()[0], cmap='gray')\n",
        "  plt.title('Prediction in Test : {}'.format(pred[i].cpu().numpy()))\n",
        "plt.show()"
      ],
      "execution_count": null,
      "outputs": [
        {
          "output_type": "display_data",
          "data": {
            "image/png": "[encoded data removed]",
            "text/plain": [
              "<Figure size 2304x2304 with 10 Axes>"
            ]
          },
          "metadata": {
            "tags": [],
            "needs_background": "light"
          }
        }
      ]
    },
    {
      "cell_type": "code",
      "metadata": {
        "id": "dtbR5ceodhso"
      },
      "source": [
        ""
      ],
      "execution_count": null,
      "outputs": []
    }
  ]
}