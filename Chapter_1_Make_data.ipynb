{
  "nbformat": 4,
  "nbformat_minor": 0,
  "metadata": {
    "colab": {
      "name": "Chapter_1_make_data.ipynb",
      "provenance": [],
      "authorship_tag": "ABX9TyOEL63Gct9DkHpxUrSYU0Fi",
      "include_colab_link": true
    },
    "kernelspec": {
      "name": "python3",
      "display_name": "Python 3"
    },
    "language_info": {
      "name": "python"
    },
    "accelerator": "GPU"
  },
  "cells": [
    {
      "cell_type": "markdown",
      "metadata": {
        "id": "view-in-github",
        "colab_type": "text"
      },
      "source": [
        "<a href=\"https://colab.research.google.com/github/AttiBae/BasicML/blob/main/Chapter_1_Make_data.ipynb\" target=\"_parent\"><img src=\"https://colab.research.google.com/assets/colab-badge.svg\" alt=\"Open In Colab\"/></a>"
      ]
    },
    {
      "cell_type": "code",
      "metadata": {
        "colab": {
          "base_uri": "https://localhost:8080/"
        },
        "id": "1f-cda3aX_pE",
        "outputId": "75abdba5-7587-4abc-a905-bd5461cd9d8e"
      },
      "source": [
        "!pip install torch"
      ],
      "execution_count": null,
      "outputs": [
        {
          "output_type": "stream",
          "text": [
            "Requirement already satisfied: torch in /usr/local/lib/python3.7/dist-packages (1.8.1+cu101)\n",
            "Requirement already satisfied: typing-extensions in /usr/local/lib/python3.7/dist-packages (from torch) (3.7.4.3)\n",
            "Requirement already satisfied: numpy in /usr/local/lib/python3.7/dist-packages (from torch) (1.19.5)\n"
          ],
          "name": "stdout"
        }
      ]
    },
    {
      "cell_type": "code",
      "metadata": {
        "colab": {
          "base_uri": "https://localhost:8080/"
        },
        "id": "IOnX27sgYiu_",
        "outputId": "4e646be1-3d2b-4557-a0bd-347e40f621fd"
      },
      "source": [
        "!pip install torchvision"
      ],
      "execution_count": null,
      "outputs": [
        {
          "output_type": "stream",
          "text": [
            "Requirement already satisfied: torchvision in /usr/local/lib/python3.7/dist-packages (0.9.1+cu101)\n",
            "Requirement already satisfied: torch==1.8.1 in /usr/local/lib/python3.7/dist-packages (from torchvision) (1.8.1+cu101)\n",
            "Requirement already satisfied: numpy in /usr/local/lib/python3.7/dist-packages (from torchvision) (1.19.5)\n",
            "Requirement already satisfied: pillow>=4.1.1 in /usr/local/lib/python3.7/dist-packages (from torchvision) (7.1.2)\n",
            "Requirement already satisfied: typing-extensions in /usr/local/lib/python3.7/dist-packages (from torch==1.8.1->torchvision) (3.7.4.3)\n"
          ],
          "name": "stdout"
        }
      ]
    },
    {
      "cell_type": "code",
      "metadata": {
        "id": "nOoqM8ZlrGre"
      },
      "source": [
        "import torch"
      ],
      "execution_count": null,
      "outputs": []
    },
    {
      "cell_type": "code",
      "metadata": {
        "id": "dE9st4dzlsJY"
      },
      "source": [
        "x = torch.rand(10)"
      ],
      "execution_count": null,
      "outputs": []
    },
    {
      "cell_type": "code",
      "metadata": {
        "id": "4RWJN-xirFLn"
      },
      "source": [
        "x_tensor = torch.tensor(10)"
      ],
      "execution_count": null,
      "outputs": []
    },
    {
      "cell_type": "code",
      "metadata": {
        "colab": {
          "base_uri": "https://localhost:8080/"
        },
        "id": "SzyvqohuuaWJ",
        "outputId": "62034f18-950f-4ed5-fcf9-ba89b5876efb"
      },
      "source": [
        "print(x)\n",
        "print(x_tensor)\n",
        "x.size()\n",
        "print(x_tensor.dim())"
      ],
      "execution_count": null,
      "outputs": [
        {
          "output_type": "stream",
          "text": [
            "tensor([0.9473, 0.4276, 0.6994, 0.6864, 0.0055, 0.2596, 0.5360, 0.4761, 0.1719,\n",
            "        0.9682])\n",
            "tensor(10)\n",
            "0\n"
          ],
          "name": "stdout"
        }
      ]
    },
    {
      "cell_type": "code",
      "metadata": {
        "colab": {
          "base_uri": "https://localhost:8080/"
        },
        "id": "YIoJ-m-jXHhI",
        "outputId": "968e5ac2-1588-4dd3-91b2-8188e7156ad3"
      },
      "source": [
        "x = torch.autograd.Variable(torch.ones(2,2), requires_grad = True)\n",
        "y = x.mean()\n",
        "\n",
        "y.backward()\n",
        "\n",
        "print('Gradient of x : \\n{}\\n'.format(x.grad))\n",
        "print('Gradient function of x : {}\\n'.format(x.grad_fn))\n",
        "print('Gradient function of y : {}\\n'.format(y.grad_fn))\n",
        "print('Data of x : \\n{}'.format(x.data))"
      ],
      "execution_count": null,
      "outputs": [
        {
          "output_type": "stream",
          "text": [
            "Gradient of x : \n",
            "tensor([[0.2500, 0.2500],\n",
            "        [0.2500, 0.2500]])\n",
            "\n",
            "Gradient function of x : None\n",
            "\n",
            "Gradient function of y : <MeanBackward0 object at 0x7f58f671a290>\n",
            "\n",
            "Data of x : \n",
            "tensor([[1., 1.],\n",
            "        [1., 1.]])\n"
          ],
          "name": "stdout"
        }
      ]
    },
    {
      "cell_type": "code",
      "metadata": {
        "id": "RSmajAKreJ_f"
      },
      "source": [
        "import numpy as np\n",
        "from torch.autograd import Variable as Variable\n",
        "\n",
        "train_x = np.asarray([1.1,2.2,3.3,4.4,5.5,6.6,7.7,8.8,9.9])\n",
        "train_y = np.asarray([9.1,8.2,7.3,6.5,5.6,4.7,3.8,2.9,1.0])\n",
        "\n",
        "X = Variable(torch.from_numpy(train_x).type(torch.FloatTensor), requires_grad = False)\n",
        "Y = Variable(torch.from_numpy(train_y).type(torch.FloatTensor), requires_grad = False)"
      ],
      "execution_count": null,
      "outputs": []
    },
    {
      "cell_type": "code",
      "metadata": {
        "id": "L5a7GAmfhFrH"
      },
      "source": [
        "import numpy as np\n",
        "from torch.autograd import Variable as Variable\n",
        "dtype = torch.FloatTensor\n",
        "\n",
        "train_x = np.asarray([1.1,2.2,3.3,4.4,5.5,6.6,7.7,8.8,9.9])\n",
        "train_y = np.asarray([9.1,8.2,7.3,6.5,5.6,4.7,3.8,2.9,1.0])\n",
        "\n",
        "X = Variable(torch.from_numpy(train_x).type(dtype), requires_grad = False)\n",
        "Y = Variable(torch.from_numpy(train_y).type(dtype), requires_grad = False)"
      ],
      "execution_count": null,
      "outputs": []
    },
    {
      "cell_type": "code",
      "metadata": {
        "colab": {
          "base_uri": "https://localhost:8080/"
        },
        "id": "xj7Wk9evXiSJ",
        "outputId": "c1a3b921-7557-40f7-8c6b-06e42e59a036"
      },
      "source": [
        "torch.cuda.is_available()"
      ],
      "execution_count": null,
      "outputs": [
        {
          "output_type": "execute_result",
          "data": {
            "text/plain": [
              "True"
            ]
          },
          "metadata": {
            "tags": []
          },
          "execution_count": 10
        }
      ]
    },
    {
      "cell_type": "code",
      "metadata": {
        "id": "FLTxXeJVuoxs",
        "colab": {
          "base_uri": "https://localhost:8080/"
        },
        "outputId": "42f09a37-0ffa-4262-c090-6be96f2a1695"
      },
      "source": [
        "import time\n",
        "\n",
        "a = torch.rand(4716, 4716)\n",
        "b = torch.rand(4716, 4716)\n",
        "\n",
        "start = time.time()\n",
        "a. matmul(b)\n",
        "time_taken = time.time() - start\n",
        "\n",
        "print('Time taken with CPU : {:0.4}s '.format(time_taken))\n",
        "\n",
        "a = a.cuda()\n",
        "b = b.cuda()\n",
        "\n",
        "start = time.time()\n",
        "a. matmul(b)\n",
        "time_taken = time.time() - start\n",
        "print('Time taken with CUDA : {:0.4}ms'.format(time_taken * 1e3))"
      ],
      "execution_count": null,
      "outputs": [
        {
          "output_type": "stream",
          "text": [
            "Time taken with CPU : 2.48s \n",
            "Time taken with CUDA : 10.06ms\n"
          ],
          "name": "stdout"
        }
      ]
    },
    {
      "cell_type": "code",
      "metadata": {
        "id": "zJdLk_TuiAkV"
      },
      "source": [
        ""
      ],
      "execution_count": null,
      "outputs": []
    }
  ]
}